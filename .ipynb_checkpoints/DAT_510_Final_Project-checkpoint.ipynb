{
 "cells": [
  {
   "cell_type": "code",
   "execution_count": 1,
   "metadata": {},
   "outputs": [
    {
     "name": "stderr",
     "output_type": "stream",
     "text": [
      "/Users/parladdhungana/opt/anaconda3/lib/python3.7/site-packages/sklearn/externals/joblib/__init__.py:15: FutureWarning: sklearn.externals.joblib is deprecated in 0.21 and will be removed in 0.23. Please import this functionality directly from joblib, which can be installed with: pip install joblib. If this warning is raised when loading pickled models, you may need to re-serialize those models with scikit-learn 0.21+.\n",
      "  warnings.warn(msg, category=FutureWarning)\n"
     ]
    }
   ],
   "source": [
    "#PARLAD DHUNGANA\n",
    "#PREDICTING FUTURE CONSUMPTION OF HEATING OIL BY NEW COSTUMER\n",
    "#LINEAR REGRESSION MODELING\n",
    "#########################################################\n",
    "#Importing librairies\n",
    "import pandas as pd\n",
    "import sklearn as sk\n",
    "import numpy as np\n",
    "import seaborn as sns\n",
    "import matplotlib.pyplot as plt\n",
    "%matplotlib inline\n",
    "\n",
    "from scipy.stats import norm\n",
    "from sklearn.model_selection import train_test_split\n",
    "from sklearn.model_selection import cross_val_score\n",
    "from sklearn.model_selection import cross_val_predict\n",
    "from sklearn.model_selection import GridSearchCV\n",
    "from sklearn.model_selection import StratifiedKFold\n",
    "from sklearn.metrics import mean_squared_error\n",
    "from sklearn.linear_model import LinearRegression\n",
    "from sklearn.preprocessing import StandardScaler\n",
    "from sklearn.ensemble import RandomForestRegressor\n",
    "from sklearn.pipeline import Pipeline\n",
    "from sklearn.externals import joblib\n"
   ]
  },
  {
   "cell_type": "markdown",
   "metadata": {},
   "source": [
    "$\\huge{Project\\ Scenario}$\n",
    "\n",
    "A regional sales manager from a nationwide supply of fossil fuels for home heating wants to predict heating oil demand for the new customer. Her sales team is signing up thousands of new clients, and she wants to make sure the company will be able to meet this new level of demand. There are 42650 new customers and haven’t started consuming heating oil yet. She wants to know how much heating oil needs to keep in stock in order to meet these new customer demands.\n",
    "\n",
    "\n"
   ]
  },
  {
   "cell_type": "markdown",
   "metadata": {},
   "source": [
    "$\\huge{Goal}$\n",
    "\n",
    "Predicting future consumption of heating oil of each household of 42650 new customers."
   ]
  },
  {
   "cell_type": "markdown",
   "metadata": {},
   "source": [
    "$\\huge {Data \\ attributes}$\n",
    "\n",
    "$\\textbf{Insulation:}$ the thickness of each home’s insulation, ranging from one to ten. A higher the number has excellently insulated, lower the number has poorly insulated.  \n",
    "\n",
    "$\\textbf{Temperature:}$ most recent year average outdoor temperature of each customer's home.\n",
    "\n",
    "$\\textbf{Heating_Oil:}$ most recent year heating oil purchased by each customer.\n",
    "\n",
    "$\\textbf{Num_Occupants:}$  total number of people living in the home. \n",
    "\n",
    "$\\textbf{Home_Size:}$ the home’s overall size, on a scale from one to eight. The higher the number, the larger the size.  \n",
    "\n",
    "$\\textbf{Ave_Age:}$ the average age of occupier living in the home. \n",
    "\n"
   ]
  },
  {
   "cell_type": "markdown",
   "metadata": {},
   "source": [
    "$\\huge {Data \\ Preparation}$"
   ]
  },
  {
   "cell_type": "code",
   "execution_count": 2,
   "metadata": {},
   "outputs": [],
   "source": [
    "#Loadin data\n",
    "Train_data = pd.read_csv(\"Test_data.csv\")\n",
    "Test_data = pd.read_csv(\"Train_data.csv\")"
   ]
  },
  {
   "cell_type": "code",
   "execution_count": 3,
   "metadata": {},
   "outputs": [
    {
     "name": "stdout",
     "output_type": "stream",
     "text": [
      "Train Data set: \n",
      "    Insulation  Temperature  Num_Occupants  Avg_Age  Home_Size\n",
      "0           5           69             10     70.1          7\n",
      "1           5           80              1     66.7          1\n",
      "2           4           89              9     67.8          7\n",
      "3           7           81              9     52.4          6\n",
      "4           4           58              8     22.9          7 \n",
      "\n",
      "Test Data Set: \n",
      "    Insulation  Temperature  Heating_Oil  Num_Occupants  Avg_Age  Home_Size\n",
      "0           6           74          132              4     23.8          4\n",
      "1          10           43          263              4     56.7          4\n",
      "2           3           81          145              2     28.0          6\n",
      "3           9           50          196              4     45.1          3\n",
      "4           2           80          131              5     20.8          2\n"
     ]
    }
   ],
   "source": [
    "#Verifying loaded data\n",
    "print(\"Train Data set: \\n\", Train_data.head(),'\\n')\n",
    "print(\"Test Data Set: \\n\", Test_data.head())"
   ]
  },
  {
   "cell_type": "code",
   "execution_count": null,
   "metadata": {},
   "outputs": [],
   "source": []
  },
  {
   "cell_type": "code",
   "execution_count": 4,
   "metadata": {},
   "outputs": [
    {
     "name": "stdout",
     "output_type": "stream",
     "text": [
      "\n",
      " Shape of Train Data set: (42650, 5) \n",
      " Shape of Test Data Set: (1218, 6)\n"
     ]
    }
   ],
   "source": [
    "#checking shape of the data\n",
    "print(\"\\n Shape of Train Data set:\" ,Train_data.shape,\n",
    "      \"\\n Shape of Test Data Set:\", Test_data.shape)\n"
   ]
  },
  {
   "cell_type": "markdown",
   "metadata": {},
   "source": [
    "We can see that Train_data set and Test_data set to have the same attributes (variable)except Heating_oil in the Test_data set.\n",
    "Our goal is to predict the Heating_oil for the Test_data set.\n",
    "The Test_data set will be good for testing created models without any pre-existing Heating_oil\n",
    "information and we will use \"real world\" data to predict future consumption of  heating oil for test_data set.\n"
   ]
  },
  {
   "cell_type": "markdown",
   "metadata": {},
   "source": [
    "$\\huge{ Data \\ Cleaning}$"
   ]
  },
  {
   "cell_type": "code",
   "execution_count": 5,
   "metadata": {},
   "outputs": [
    {
     "data": {
      "text/plain": [
       "True"
      ]
     },
     "execution_count": 5,
     "metadata": {},
     "output_type": "execute_result"
    }
   ],
   "source": [
    "Train_data.duplicated().any()"
   ]
  },
  {
   "cell_type": "markdown",
   "metadata": {},
   "source": [
    "There is no duplicated data in Train_data set"
   ]
  },
  {
   "cell_type": "code",
   "execution_count": 6,
   "metadata": {},
   "outputs": [
    {
     "data": {
      "text/plain": [
       "Insulation       False\n",
       "Temperature      False\n",
       "Num_Occupants    False\n",
       "Avg_Age          False\n",
       "Home_Size        False\n",
       "dtype: bool"
      ]
     },
     "execution_count": 6,
     "metadata": {},
     "output_type": "execute_result"
    }
   ],
   "source": [
    "# check any missing value in Train_data \n",
    "Train_data.isnull().any()"
   ]
  },
  {
   "cell_type": "markdown",
   "metadata": {},
   "source": [
    "No missing value in Train_data"
   ]
  },
  {
   "cell_type": "code",
   "execution_count": 7,
   "metadata": {},
   "outputs": [
    {
     "data": {
      "text/plain": [
       "False"
      ]
     },
     "execution_count": 7,
     "metadata": {},
     "output_type": "execute_result"
    }
   ],
   "source": [
    "#checking duplicate entries in Test_data\n",
    "Test_data.duplicated().any()\n"
   ]
  },
  {
   "cell_type": "markdown",
   "metadata": {},
   "source": [
    "There is some duplicate data in Test_data set."
   ]
  },
  {
   "cell_type": "code",
   "execution_count": 8,
   "metadata": {},
   "outputs": [
    {
     "name": "stdout",
     "output_type": "stream",
     "text": [
      "There are  0  duplicate in Test_data set\n"
     ]
    }
   ],
   "source": [
    "print(\"There are \",Test_data.duplicated().sum(), \" duplicate in Test_data set\")\n"
   ]
  },
  {
   "cell_type": "code",
   "execution_count": 9,
   "metadata": {},
   "outputs": [],
   "source": [
    "#printing duplicate data\n",
    "#Test_data[Test_data.duplicated()]"
   ]
  },
  {
   "cell_type": "code",
   "execution_count": 10,
   "metadata": {},
   "outputs": [
    {
     "data": {
      "text/plain": [
       "Insulation       False\n",
       "Temperature      False\n",
       "Heating_Oil      False\n",
       "Num_Occupants    False\n",
       "Avg_Age          False\n",
       "Home_Size        False\n",
       "dtype: bool"
      ]
     },
     "execution_count": 10,
     "metadata": {},
     "output_type": "execute_result"
    }
   ],
   "source": [
    "#removing duplicate data\n",
    "Test_data = Test_data.drop_duplicates()\n",
    "#check any missing value in Test_data \n",
    "Test_data.isnull().any()"
   ]
  },
  {
   "cell_type": "markdown",
   "metadata": {},
   "source": [
    "No missing values in Test_data"
   ]
  },
  {
   "cell_type": "code",
   "execution_count": 11,
   "metadata": {},
   "outputs": [
    {
     "ename": "KeyError",
     "evalue": "'Heating_Oil'",
     "output_type": "error",
     "traceback": [
      "\u001b[0;31m---------------------------------------------------------------------------\u001b[0m",
      "\u001b[0;31mKeyError\u001b[0m                                  Traceback (most recent call last)",
      "\u001b[0;32m~/opt/anaconda3/lib/python3.7/site-packages/pandas/core/indexes/base.py\u001b[0m in \u001b[0;36mget_loc\u001b[0;34m(self, key, method, tolerance)\u001b[0m\n\u001b[1;32m   2645\u001b[0m             \u001b[0;32mtry\u001b[0m\u001b[0;34m:\u001b[0m\u001b[0;34m\u001b[0m\u001b[0;34m\u001b[0m\u001b[0m\n\u001b[0;32m-> 2646\u001b[0;31m                 \u001b[0;32mreturn\u001b[0m \u001b[0mself\u001b[0m\u001b[0;34m.\u001b[0m\u001b[0m_engine\u001b[0m\u001b[0;34m.\u001b[0m\u001b[0mget_loc\u001b[0m\u001b[0;34m(\u001b[0m\u001b[0mkey\u001b[0m\u001b[0;34m)\u001b[0m\u001b[0;34m\u001b[0m\u001b[0;34m\u001b[0m\u001b[0m\n\u001b[0m\u001b[1;32m   2647\u001b[0m             \u001b[0;32mexcept\u001b[0m \u001b[0mKeyError\u001b[0m\u001b[0;34m:\u001b[0m\u001b[0;34m\u001b[0m\u001b[0;34m\u001b[0m\u001b[0m\n",
      "\u001b[0;32mpandas/_libs/index.pyx\u001b[0m in \u001b[0;36mpandas._libs.index.IndexEngine.get_loc\u001b[0;34m()\u001b[0m\n",
      "\u001b[0;32mpandas/_libs/index.pyx\u001b[0m in \u001b[0;36mpandas._libs.index.IndexEngine.get_loc\u001b[0;34m()\u001b[0m\n",
      "\u001b[0;32mpandas/_libs/hashtable_class_helper.pxi\u001b[0m in \u001b[0;36mpandas._libs.hashtable.PyObjectHashTable.get_item\u001b[0;34m()\u001b[0m\n",
      "\u001b[0;32mpandas/_libs/hashtable_class_helper.pxi\u001b[0m in \u001b[0;36mpandas._libs.hashtable.PyObjectHashTable.get_item\u001b[0;34m()\u001b[0m\n",
      "\u001b[0;31mKeyError\u001b[0m: 'Heating_Oil'",
      "\nDuring handling of the above exception, another exception occurred:\n",
      "\u001b[0;31mKeyError\u001b[0m                                  Traceback (most recent call last)",
      "\u001b[0;32m<ipython-input-11-5b6adb20261f>\u001b[0m in \u001b[0;36m<module>\u001b[0;34m\u001b[0m\n\u001b[1;32m      1\u001b[0m \u001b[0;31m#check for any invalid Heating_oil\u001b[0m\u001b[0;34m\u001b[0m\u001b[0;34m\u001b[0m\u001b[0;34m\u001b[0m\u001b[0m\n\u001b[1;32m      2\u001b[0m \u001b[0;34m\u001b[0m\u001b[0m\n\u001b[0;32m----> 3\u001b[0;31m \u001b[0minvalid_Heating_oil\u001b[0m \u001b[0;34m=\u001b[0m \u001b[0mTrain_data\u001b[0m\u001b[0;34m[\u001b[0m\u001b[0;34m'Heating_Oil'\u001b[0m\u001b[0;34m]\u001b[0m\u001b[0;34m<=\u001b[0m\u001b[0;36m0\u001b[0m\u001b[0;34m\u001b[0m\u001b[0;34m\u001b[0m\u001b[0m\n\u001b[0m\u001b[1;32m      4\u001b[0m \u001b[0minvalid_Heating_oil\u001b[0m \u001b[0;34m=\u001b[0m \u001b[0mTrain_data\u001b[0m\u001b[0;34m[\u001b[0m\u001b[0minvalid_Heating_oil\u001b[0m\u001b[0;34m]\u001b[0m\u001b[0;34m\u001b[0m\u001b[0;34m\u001b[0m\u001b[0m\n\u001b[1;32m      5\u001b[0m \u001b[0minvalid_Heating_oil\u001b[0m\u001b[0;34m\u001b[0m\u001b[0;34m\u001b[0m\u001b[0m\n",
      "\u001b[0;32m~/opt/anaconda3/lib/python3.7/site-packages/pandas/core/frame.py\u001b[0m in \u001b[0;36m__getitem__\u001b[0;34m(self, key)\u001b[0m\n\u001b[1;32m   2798\u001b[0m             \u001b[0;32mif\u001b[0m \u001b[0mself\u001b[0m\u001b[0;34m.\u001b[0m\u001b[0mcolumns\u001b[0m\u001b[0;34m.\u001b[0m\u001b[0mnlevels\u001b[0m \u001b[0;34m>\u001b[0m \u001b[0;36m1\u001b[0m\u001b[0;34m:\u001b[0m\u001b[0;34m\u001b[0m\u001b[0;34m\u001b[0m\u001b[0m\n\u001b[1;32m   2799\u001b[0m                 \u001b[0;32mreturn\u001b[0m \u001b[0mself\u001b[0m\u001b[0;34m.\u001b[0m\u001b[0m_getitem_multilevel\u001b[0m\u001b[0;34m(\u001b[0m\u001b[0mkey\u001b[0m\u001b[0;34m)\u001b[0m\u001b[0;34m\u001b[0m\u001b[0;34m\u001b[0m\u001b[0m\n\u001b[0;32m-> 2800\u001b[0;31m             \u001b[0mindexer\u001b[0m \u001b[0;34m=\u001b[0m \u001b[0mself\u001b[0m\u001b[0;34m.\u001b[0m\u001b[0mcolumns\u001b[0m\u001b[0;34m.\u001b[0m\u001b[0mget_loc\u001b[0m\u001b[0;34m(\u001b[0m\u001b[0mkey\u001b[0m\u001b[0;34m)\u001b[0m\u001b[0;34m\u001b[0m\u001b[0;34m\u001b[0m\u001b[0m\n\u001b[0m\u001b[1;32m   2801\u001b[0m             \u001b[0;32mif\u001b[0m \u001b[0mis_integer\u001b[0m\u001b[0;34m(\u001b[0m\u001b[0mindexer\u001b[0m\u001b[0;34m)\u001b[0m\u001b[0;34m:\u001b[0m\u001b[0;34m\u001b[0m\u001b[0;34m\u001b[0m\u001b[0m\n\u001b[1;32m   2802\u001b[0m                 \u001b[0mindexer\u001b[0m \u001b[0;34m=\u001b[0m \u001b[0;34m[\u001b[0m\u001b[0mindexer\u001b[0m\u001b[0;34m]\u001b[0m\u001b[0;34m\u001b[0m\u001b[0;34m\u001b[0m\u001b[0m\n",
      "\u001b[0;32m~/opt/anaconda3/lib/python3.7/site-packages/pandas/core/indexes/base.py\u001b[0m in \u001b[0;36mget_loc\u001b[0;34m(self, key, method, tolerance)\u001b[0m\n\u001b[1;32m   2646\u001b[0m                 \u001b[0;32mreturn\u001b[0m \u001b[0mself\u001b[0m\u001b[0;34m.\u001b[0m\u001b[0m_engine\u001b[0m\u001b[0;34m.\u001b[0m\u001b[0mget_loc\u001b[0m\u001b[0;34m(\u001b[0m\u001b[0mkey\u001b[0m\u001b[0;34m)\u001b[0m\u001b[0;34m\u001b[0m\u001b[0;34m\u001b[0m\u001b[0m\n\u001b[1;32m   2647\u001b[0m             \u001b[0;32mexcept\u001b[0m \u001b[0mKeyError\u001b[0m\u001b[0;34m:\u001b[0m\u001b[0;34m\u001b[0m\u001b[0;34m\u001b[0m\u001b[0m\n\u001b[0;32m-> 2648\u001b[0;31m                 \u001b[0;32mreturn\u001b[0m \u001b[0mself\u001b[0m\u001b[0;34m.\u001b[0m\u001b[0m_engine\u001b[0m\u001b[0;34m.\u001b[0m\u001b[0mget_loc\u001b[0m\u001b[0;34m(\u001b[0m\u001b[0mself\u001b[0m\u001b[0;34m.\u001b[0m\u001b[0m_maybe_cast_indexer\u001b[0m\u001b[0;34m(\u001b[0m\u001b[0mkey\u001b[0m\u001b[0;34m)\u001b[0m\u001b[0;34m)\u001b[0m\u001b[0;34m\u001b[0m\u001b[0;34m\u001b[0m\u001b[0m\n\u001b[0m\u001b[1;32m   2649\u001b[0m         \u001b[0mindexer\u001b[0m \u001b[0;34m=\u001b[0m \u001b[0mself\u001b[0m\u001b[0;34m.\u001b[0m\u001b[0mget_indexer\u001b[0m\u001b[0;34m(\u001b[0m\u001b[0;34m[\u001b[0m\u001b[0mkey\u001b[0m\u001b[0;34m]\u001b[0m\u001b[0;34m,\u001b[0m \u001b[0mmethod\u001b[0m\u001b[0;34m=\u001b[0m\u001b[0mmethod\u001b[0m\u001b[0;34m,\u001b[0m \u001b[0mtolerance\u001b[0m\u001b[0;34m=\u001b[0m\u001b[0mtolerance\u001b[0m\u001b[0;34m)\u001b[0m\u001b[0;34m\u001b[0m\u001b[0;34m\u001b[0m\u001b[0m\n\u001b[1;32m   2650\u001b[0m         \u001b[0;32mif\u001b[0m \u001b[0mindexer\u001b[0m\u001b[0;34m.\u001b[0m\u001b[0mndim\u001b[0m \u001b[0;34m>\u001b[0m \u001b[0;36m1\u001b[0m \u001b[0;32mor\u001b[0m \u001b[0mindexer\u001b[0m\u001b[0;34m.\u001b[0m\u001b[0msize\u001b[0m \u001b[0;34m>\u001b[0m \u001b[0;36m1\u001b[0m\u001b[0;34m:\u001b[0m\u001b[0;34m\u001b[0m\u001b[0;34m\u001b[0m\u001b[0m\n",
      "\u001b[0;32mpandas/_libs/index.pyx\u001b[0m in \u001b[0;36mpandas._libs.index.IndexEngine.get_loc\u001b[0;34m()\u001b[0m\n",
      "\u001b[0;32mpandas/_libs/index.pyx\u001b[0m in \u001b[0;36mpandas._libs.index.IndexEngine.get_loc\u001b[0;34m()\u001b[0m\n",
      "\u001b[0;32mpandas/_libs/hashtable_class_helper.pxi\u001b[0m in \u001b[0;36mpandas._libs.hashtable.PyObjectHashTable.get_item\u001b[0;34m()\u001b[0m\n",
      "\u001b[0;32mpandas/_libs/hashtable_class_helper.pxi\u001b[0m in \u001b[0;36mpandas._libs.hashtable.PyObjectHashTable.get_item\u001b[0;34m()\u001b[0m\n",
      "\u001b[0;31mKeyError\u001b[0m: 'Heating_Oil'"
     ]
    }
   ],
   "source": [
    "#check for any invalid Heating_oil\n",
    "\n",
    "invalid_Heating_oil = Train_data['Heating_Oil']<=0\n",
    "invalid_Heating_oil = Train_data[invalid_Heating_oil]\n",
    "invalid_Heating_oil"
   ]
  },
  {
   "cell_type": "markdown",
   "metadata": {},
   "source": [
    "There is not any invalid Heating_Oil."
   ]
  },
  {
   "cell_type": "code",
   "execution_count": null,
   "metadata": {},
   "outputs": [],
   "source": []
  },
  {
   "cell_type": "markdown",
   "metadata": {},
   "source": [
    "$ \\huge {Exploratory\\  Data \\ Analysis}$"
   ]
  },
  {
   "cell_type": "markdown",
   "metadata": {},
   "source": [
    "Descriptive statistics attributes. "
   ]
  },
  {
   "cell_type": "code",
   "execution_count": null,
   "metadata": {},
   "outputs": [],
   "source": [
    "Train_data.describe()"
   ]
  },
  {
   "cell_type": "markdown",
   "metadata": {},
   "source": [
    "The minimum, maximum, and range of these numbers all seem appropriate for their corresponding columns.\n",
    "The mean and standard deviation do not indicate anything is obviously wrong with this data.\n",
    "\n"
   ]
  },
  {
   "cell_type": "code",
   "execution_count": null,
   "metadata": {},
   "outputs": [],
   "source": [
    "Test_data.describe()"
   ]
  },
  {
   "cell_type": "markdown",
   "metadata": {},
   "source": [
    "The ranges are the same for all attributes of Train_data and test_data except Avg_Age. In the Test_data set, we have some observations where the Avg_Age is slightly below the Train_data set’s lower bound of 15.1, and some observations where the Test_data Avg_Age is slightly above the Train_set’s upper bound of 72.2.\n",
    "These values are so close to the Train_data set’s values that it would not matter if we used our training data set to predict heating oil usage for the homes represented by these observations."
   ]
  },
  {
   "cell_type": "markdown",
   "metadata": {},
   "source": [
    "# Visualizing the correlation coefficient of each quantitative data."
   ]
  },
  {
   "cell_type": "code",
   "execution_count": null,
   "metadata": {},
   "outputs": [],
   "source": [
    "# Plot heatmap of all data with correlation coefficients visible\n",
    "Train_data_corr = Train_data.corr()\n",
    "plt.subplots(figsize=(10,5))\n",
    "sns.heatmap(Train_data_corr, cmap='YlGnBu', linewidth=.005, annot=True)"
   ]
  },
  {
   "cell_type": "markdown",
   "metadata": {},
   "source": [
    "All correlation coefficients between 0 and 1 represent positive correlations, while all coefficients between 0 and -1 are negative correlations. Correlations that are positive mean that as one attribute’s value rises, the other attribute’s value also rises. But, a positive correlation also means that as one attribute’s value falls, the other’s also falls. Data analysts sometimes make the mistake in thinking that a negative correlation exists if an attribute’s values are decreasing, but if its corresponding attribute’s values are also decreasing, the correlation is still a positive one.\n",
    "\n",
    "In the above correlation coefficient matrix, we can see that consumption of heating oil \n",
    "has a very strong positive correlation with average age, quite a strong positive correlation to \n",
    "insulation, and a weak positive correlation to the home size. \n",
    "However, the consumption of heating oil and the outer temperature of the home has a strong negative correlation. \n",
    "We also notice that number of occupants in the home and consumption of heating oil has a very weak correlation (do no have a correlation). \n",
    "Meaning that increasing or decreasing the number of occupants in a home does not affect the \n",
    "consumption of heating oil.\n",
    "\n",
    "\n"
   ]
  },
  {
   "cell_type": "code",
   "execution_count": null,
   "metadata": {},
   "outputs": [],
   "source": [
    "\n",
    "fig, axes = plt.subplots(1, 5, figsize=(25, 8), sharey=False)\n",
    "fig.suptitle('Visualiging regression line')\n",
    "sns.regplot(x='Insulation', y='Heating_Oil', data=Train_data,line_kws={'color':'red'}, ax=axes[0])\n",
    "axes[0].set_title('Insulation vs Heating_Oil')\n",
    "sns.regplot(x='Avg_Age', y='Heating_Oil', data=Train_data,line_kws={'color':'red'}, ax=axes[1])\n",
    "axes[1].set_title('Avg_Age vs Heating_Oil')\n",
    "sns.regplot(x='Temperature', y='Heating_Oil', data=Train_data,line_kws={'color':'red'}, ax=axes[2])\n",
    "axes[2].set_title('Temperature vs Heating_Oil')\n",
    "sns.regplot(x='Home_Size', y='Heating_Oil', data=Train_data, line_kws={'color':'red'},ax=axes[3])\n",
    "axes[3].set_title('Home_Size vs Heating_Oil')\n",
    "sns.regplot(x='Num_Occupants', y='Heating_Oil', data=Train_data,line_kws={'color':'red'}, ax=axes[4])\n",
    "axes[4].set_title('Num_Occupants vs Heating_Oil')\n",
    "\n",
    "\n",
    "plt.show();"
   ]
  },
  {
   "cell_type": "markdown",
   "metadata": {},
   "source": [
    "Data is widely spread from the regression line and may need to be transformed. Heating_Oil is a strong positive correlation with Insulation and Ave_Age, a strong negative correlation with Temperature, and a weak positive correlation with Home_Size. But, very weak correlation with num_Occupants."
   ]
  },
  {
   "cell_type": "markdown",
   "metadata": {},
   "source": [
    "We noticed that consumption of heating oil and number of occupents do not have\n",
    "correlation or very weak negative correlation. Thus, we remove the number of occupants.\n",
    "It is not a statistically significant predictor of\n",
    "heating oil usage in this data set\n",
    "\n",
    "\n",
    "While the number of people living in a home might logically seem like a variable that\n",
    "would influence energy usage, in our model it did not correlate in any significant way with\n",
    "anything else. Sometimes there are attributes that don’t\n",
    "turn out to be very interesting."
   ]
  },
  {
   "cell_type": "code",
   "execution_count": null,
   "metadata": {},
   "outputs": [],
   "source": [
    "#Removing Num_Occupants from the Train_data set.\n",
    "Train_data= Train_data.drop('Num_Occupants', axis = 1)\n",
    "Train_data"
   ]
  },
  {
   "cell_type": "code",
   "execution_count": null,
   "metadata": {},
   "outputs": [],
   "source": [
    "#Removing Num_Occupants from the Test_data set.\n",
    "Test_data= Test_data.drop('Num_Occupants', axis = 1)\n",
    "Test_data"
   ]
  },
  {
   "cell_type": "markdown",
   "metadata": {},
   "source": [
    "To create a basic training model, we split our Train_data set into x and y variables and assigned 20 % of \n",
    "the training data into testing data so that the model can be tested with data for which the consumption of heating oil is already known. This will result in the variables \n",
    "X_train, y_train, X_test, and y_test."
   ]
  },
  {
   "cell_type": "code",
   "execution_count": null,
   "metadata": {},
   "outputs": [],
   "source": [
    "# Assign Heating_oil to \"y\" and all other features to \"X\". Split into training and testing variables.\n",
    "X = Train_data[Train_data.loc[ : , Train_data.columns != 'Heating_Oil'].columns]\n",
    "Y = Train_data[['Heating_Oil']]\n"
   ]
  },
  {
   "cell_type": "markdown",
   "metadata": {},
   "source": [
    "X: column which contains all variables except Heating_Oil\n",
    "\n",
    "Y: column which contains Heating_oil"
   ]
  },
  {
   "cell_type": "code",
   "execution_count": null,
   "metadata": {},
   "outputs": [],
   "source": [
    "X_Train, X_Test, Y_Train, Y_Test = train_test_split(X, Y, test_size=0.2, random_state=1)"
   ]
  },
  {
   "cell_type": "markdown",
   "metadata": {},
   "source": [
    "$\\textbf{test_size=0.2:}$ we will split our dataset into 2 parts (training set, test set)\n",
    "and the ratio of test set compare to dataset is 0.2. Normally, we should pick around 5% to 30%.\n",
    "\n",
    "$\\textbf{train_size:}$ if we use the test_size already, the rest of data will automatically be \n",
    "assigned to train_size.\n",
    "\n",
    "$\\textbf{random_state:}$ this is the seed for the random number generator.\n",
    "We can put an instance of the RandomState class as well. \n",
    "If we leave it blank or 0, the RandomState instance used by np.random will be used instead."
   ]
  },
  {
   "cell_type": "code",
   "execution_count": null,
   "metadata": {},
   "outputs": [],
   "source": [
    "# Fitting Simple Linear Regression to the Training set\n",
    "regressor = LinearRegression()\n",
    "regressor.fit(X_Train, Y_Train)"
   ]
  },
  {
   "cell_type": "code",
   "execution_count": null,
   "metadata": {},
   "outputs": [],
   "source": [
    "#Store linear regression predictions in variable\n",
    "y_pred = regressor.predict(X_Train).round(2)\n",
    "#Printing first five prediction\n",
    "print(y_pred[0:5])"
   ]
  },
  {
   "cell_type": "code",
   "execution_count": null,
   "metadata": {},
   "outputs": [],
   "source": [
    "#Histogram of predicted vs actual\n",
    "sns.distplot( Y_Train , color=\"blue\", label=\"Actual\")\n",
    "sns.distplot( y_pred , color=\"red\", label=\"Predicted\")\n",
    "plt.title(\"Histogram of Actual vs Predicted\")\n",
    "plt.legend()\n",
    " "
   ]
  },
  {
   "cell_type": "code",
   "execution_count": null,
   "metadata": {},
   "outputs": [],
   "source": [
    "print(\"Mean of Actual Heating_OIl:\", Y_Train.mean().round(),\"\\n\")\n",
    "print(\"Mean of Predicted_Heating_OIL:\", y_pred.mean().round(),\"\\n\")\n"
   ]
  },
  {
   "cell_type": "markdown",
   "metadata": {},
   "source": [
    "The predicted and actual Heatin_Oil are not extremely different. \n",
    "Histogram of predicted Heating_Oil is undefined (bimodal) and actual Heating_Oil histogram is right skewed.\n",
    "But they have same mean 197."
   ]
  },
  {
   "cell_type": "code",
   "execution_count": null,
   "metadata": {},
   "outputs": [],
   "source": [
    "#calculating residual.\n",
    "residual = Y_Train - y_pred.round()\n"
   ]
  },
  {
   "cell_type": "markdown",
   "metadata": {},
   "source": [
    "Residual is the difference between Actual value and Predicted value.\n",
    "Residual help us to determine the accuracy of the model Sometimes it is called “errors.” Error in this\n",
    "context doesn’t mean that there’s something wrong with the analysis; it just means that there is some\n",
    "unexplained difference.\n",
    "In other words, the residual is the error that isn’t\n",
    "explained by the regression line.\n",
    "\n",
    "If the residual is positive, our prediction is too low. \n",
    "\n",
    "If residual is negative our prediction is too high.\n",
    "\n",
    "if residual is 0, our prediction is exactely correct."
   ]
  },
  {
   "cell_type": "code",
   "execution_count": null,
   "metadata": {},
   "outputs": [],
   "source": [
    "#Adding three column (Actual heating oil, predicted heating oil, and residual) on the X_Train data\n",
    "X_Train.assign(**{'Actual_Heating_Oil': Y_Train, 'Predicted_Heating_Oil': y_pred, 'Residual': residual})"
   ]
  },
  {
   "cell_type": "code",
   "execution_count": null,
   "metadata": {},
   "outputs": [],
   "source": [
    "# histogram of Residual\n",
    "sns.distplot( residual , color=\"red\", label=\"residual\")\n",
    "plt.title(\"Histogram of residual\")\n",
    "plt.legend()\n",
    " \n"
   ]
  },
  {
   "cell_type": "code",
   "execution_count": null,
   "metadata": {},
   "outputs": [],
   "source": [
    "print(\"Mean of Residual:\", residual.mean().round())\n"
   ]
  },
  {
   "cell_type": "markdown",
   "metadata": {},
   "source": [
    "Histogram of residual is symmetrical bell shaped curve (residual is normally distributed) and mean of residual \n",
    "is 0. "
   ]
  },
  {
   "cell_type": "code",
   "execution_count": null,
   "metadata": {},
   "outputs": [],
   "source": [
    "\n",
    "fig, axes = plt.subplots(1, 2, figsize=(25, 8), sharey=False)\n",
    "fig.suptitle('Visualiging Residual')\n",
    "sns.regplot(x =Y_Train, y= y_pred, line_kws={'color':'red'}, ax=axes[0])\n",
    "axes[0].set_title('Regression line of Predicted vs Actual')\n",
    "sns.residplot(Y_Train, y_pred, color='magenta', ax = axes[1])\n",
    "axes[1].set_title('Residual plot')"
   ]
  },
  {
   "cell_type": "markdown",
   "metadata": {},
   "source": [
    "\n",
    "If the points in the residual graph are randomly scattered around the horizontal\n",
    "line, a linear regression model is appropriate for the data. On the left side of Figure 6,\n",
    "it can be seen that there is a strong correlation between the predicted value of heating oil \n",
    "and the actual value of heating oil. In addition to that, residual points are randomly scattered \n",
    "around the horizontal line and the mean of residual is 0.\n",
    "Thus, our predictive linear regression model is very accurate. and prediction is true.\n",
    "\n",
    "\n"
   ]
  },
  {
   "cell_type": "code",
   "execution_count": null,
   "metadata": {},
   "outputs": [],
   "source": [
    "#Predicting future consumption of heating_Oil of each new customer\n",
    "#Calculating Estimate Heating Oil consumption of New Customer\n",
    "y_pred_test = regressor.predict(Test_data).round()\n",
    "y_pred_test[0:5]"
   ]
  },
  {
   "cell_type": "code",
   "execution_count": null,
   "metadata": {},
   "outputs": [],
   "source": [
    "#Adding one columns Predicting_Heating_Oil Test_Data set\n",
    "Test_data['Predicted_Heating_Oil'] = y_pred_test.round()\n",
    "Test_data"
   ]
  },
  {
   "cell_type": "code",
   "execution_count": null,
   "metadata": {},
   "outputs": [],
   "source": [
    "print(\"Tota futur consumption of Heating Oil: \",y_pred_test.sum().round(),\"Unit\")"
   ]
  },
  {
   "cell_type": "code",
   "execution_count": null,
   "metadata": {},
   "outputs": [],
   "source": [
    "print(\"Mean of predicted Heating Oil: \",y_pred_test.mean().round())"
   ]
  },
  {
   "cell_type": "markdown",
   "metadata": {},
   "source": [
    "Based on this data analysis, we can conclude that 8497186.0 unt of Heating Oil need to keep in stock in order\n",
    "to meet the 42614 new customer’s demand. And each house hold expected to consume average 199.0 unit of heating oil \n",
    "in future."
   ]
  },
  {
   "cell_type": "markdown",
   "metadata": {},
   "source": [
    "Saving final result in csv format."
   ]
  },
  {
   "cell_type": "code",
   "execution_count": null,
   "metadata": {},
   "outputs": [],
   "source": [
    "filename = 'Predicted_Heating_Oil.csv'\n",
    "joblib.dump(Test_data, filename)"
   ]
  },
  {
   "cell_type": "code",
   "execution_count": null,
   "metadata": {},
   "outputs": [],
   "source": []
  },
  {
   "cell_type": "code",
   "execution_count": null,
   "metadata": {},
   "outputs": [],
   "source": []
  }
 ],
 "metadata": {
  "kernelspec": {
   "display_name": "Python 3",
   "language": "python",
   "name": "python3"
  },
  "language_info": {
   "codemirror_mode": {
    "name": "ipython",
    "version": 3
   },
   "file_extension": ".py",
   "mimetype": "text/x-python",
   "name": "python",
   "nbconvert_exporter": "python",
   "pygments_lexer": "ipython3",
   "version": "3.7.6"
  }
 },
 "nbformat": 4,
 "nbformat_minor": 4
}
